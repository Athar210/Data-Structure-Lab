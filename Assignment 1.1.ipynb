{
 "cells": [
  {
   "cell_type": "markdown",
   "metadata": {},
   "source": [
    "# Assignment 1.1"
   ]
  },
  {
   "cell_type": "markdown",
   "metadata": {},
   "source": [
    "## Bubble Sorting in Reverse Loop"
   ]
  },
  {
   "cell_type": "code",
   "execution_count": 1,
   "metadata": {},
   "outputs": [],
   "source": [
    "import numpy as np"
   ]
  },
  {
   "cell_type": "code",
   "execution_count": 20,
   "metadata": {},
   "outputs": [
    {
     "name": "stdout",
     "output_type": "stream",
     "text": [
      "Reverse Loop Bubble Sort  \n",
      "[-34  -4   1   2   3   3   4   5   7]\n"
     ]
    }
   ],
   "source": [
    "array=np.array([5,-4,3,2,1,-34,4,7,3])\n",
    "temp=0\n",
    "for i in range(len(array)-1,0,-1): # loop is running in reverse\n",
    "    for j in range(i):\n",
    "        if array[j] > array [j+1]:\n",
    "            temp = array[j]\n",
    "            array[j] = array[j+1]\n",
    "            array[j+1] = temp\n",
    "            \n",
    "print(\"Reverse Loop Bubble Sort  \")\n",
    "print(array)"
   ]
  },
  {
   "cell_type": "markdown",
   "metadata": {},
   "source": [
    "## Selection Sorting in Descending Order"
   ]
  },
  {
   "cell_type": "code",
   "execution_count": 21,
   "metadata": {},
   "outputs": [
    {
     "name": "stdout",
     "output_type": "stream",
     "text": [
      "Selection Sort In Descending Order \n",
      "[  7   5   4   3   3   2   1  -4 -34]\n"
     ]
    }
   ],
   "source": [
    "for i in range(len(array)-1):\n",
    "    index = i\n",
    "    for j in range(i+1,len(array)):\n",
    "        if array[j] > array[index]:\n",
    "            index = j\n",
    "    if array[i] != array[index]:\n",
    "        temp = array[i]\n",
    "        array[i] = array[index]\n",
    "        array[index] = temp\n",
    "            #count +=1\n",
    "print(\"Selection Sort In Descending Order \")\n",
    "print(array)"
   ]
  },
  {
   "cell_type": "markdown",
   "metadata": {},
   "source": [
    "## Sorting words without Sort function"
   ]
  },
  {
   "cell_type": "code",
   "execution_count": 24,
   "metadata": {},
   "outputs": [
    {
     "name": "stdout",
     "output_type": "stream",
     "text": [
      "\n",
      "After sorting of words\n"
     ]
    },
    {
     "data": {
      "text/plain": [
       "array(['aaa', 'aab', 'aac', 'abc', 'ashir', 'faiz', 'furqan', 'hamza',\n",
       "       'shawn', 'zunair'], dtype='<U6')"
      ]
     },
     "execution_count": 24,
     "metadata": {},
     "output_type": "execute_result"
    }
   ],
   "source": [
    "names=np.array([\"zunair\",\"aaa\",\"aab\",\"aac\",\"abc\",\"faiz\",\"furqan\",\"hamza\",\"shawn\",\"ashir\"])\n",
    "for i in range(len(names)-1, 0, -1):\n",
    "    for j in range(i):\n",
    "        if names[j] > names[j+1]:\n",
    "            names[j], names[j+1] = names[j+1], names[j]\n",
    "print()\n",
    "print(\"After sorting of words\")\n",
    "names"
   ]
  }
 ],
 "metadata": {
  "kernelspec": {
   "display_name": "Python 3",
   "language": "python",
   "name": "python3"
  },
  "language_info": {
   "codemirror_mode": {
    "name": "ipython",
    "version": 3
   },
   "file_extension": ".py",
   "mimetype": "text/x-python",
   "name": "python",
   "nbconvert_exporter": "python",
   "pygments_lexer": "ipython3",
   "version": "3.7.3"
  }
 },
 "nbformat": 4,
 "nbformat_minor": 2
}
