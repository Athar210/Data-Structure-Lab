{
 "cells": [
  {
   "cell_type": "markdown",
   "metadata": {},
   "source": [
    "# Bubble Sort"
   ]
  },
  {
   "cell_type": "code",
   "execution_count": 32,
   "metadata": {},
   "outputs": [
    {
     "name": "stdout",
     "output_type": "stream",
     "text": [
      "before sorting   [ 2 34 -4 23 75]\n",
      "after sorting   [-4  2 23 34 75]\n"
     ]
    }
   ],
   "source": [
    "import numpy as np\n",
    "arr=np.array([2,34,-4,23,75])\n",
    "temp=0\n",
    "print(\"before sorting  \",arr)\n",
    "for i in range(len(arr)-1):\n",
    "        for j in range(len(arr)-1-i):\n",
    "            if arr[j]>arr[j+1]:\n",
    "                temp = arr[j]\n",
    "                arr[j]=arr[j+1]\n",
    "                arr[j+1]=temp\n",
    "print(\"after sorting  \",arr)                "
   ]
  },
  {
   "cell_type": "markdown",
   "metadata": {},
   "source": [
    "# Second Method for Bubble Sort in limited loops"
   ]
  },
  {
   "cell_type": "code",
   "execution_count": 44,
   "metadata": {},
   "outputs": [
    {
     "name": "stdout",
     "output_type": "stream",
     "text": [
      "before sorting   [1 2 4 3 5 6]\n",
      "number of loops for sorting:  2\n",
      "after sorting   [1 2 3 4 5 6]\n"
     ]
    }
   ],
   "source": [
    "import numpy as np\n",
    "arr=np.array([1,2,4,3,5,6])\n",
    "temp=0\n",
    "fflag=False\n",
    "print(\"before sorting  \",arr)\n",
    "for i in range(len(arr)-1):\n",
    "        for j in range(len(arr)-1-i):\n",
    "            if arr[j]>arr[j+1]:\n",
    "                temp = arr[j]\n",
    "                arr[j]=arr[j+1]\n",
    "                arr[j+1]=temp\n",
    "                fflag=True\n",
    "                print(\"number of loops for sorting: \",j)\n",
    "        if(not fflag):\n",
    "            break\n",
    "            \n",
    "print(\"after sorting  \",arr)                \n"
   ]
  },
  {
   "cell_type": "markdown",
   "metadata": {},
   "source": [
    "# Sorting in string Array "
   ]
  },
  {
   "cell_type": "code",
   "execution_count": 51,
   "metadata": {},
   "outputs": [
    {
     "name": "stdout",
     "output_type": "stream",
     "text": [
      "before sorting   ['Athar' 'Ashir' 'Asghar']\n",
      "before sorting   ['Ashir' 'Asghar' 'Athar']\n"
     ]
    }
   ],
   "source": [
    "arr=np.array([\"Athar\",\"Ashir\",\"Asghar\"])\n",
    "temp=0\n",
    "print(\"before sorting  \",arr)\n",
    "for i in range(len(arr)-1):\n",
    "        for j in range(len(arr)-1-i):\n",
    "            if arr[j][1]>arr[j+1][1]: #sorting in ascending depending upon first letter of word due to 0 index which we have mentioned\n",
    "                temp = arr[j]\n",
    "                arr[j]=arr[j+1]\n",
    "                arr[j+1]=temp\n",
    "print(\"before sorting  \",arr)"
   ]
  },
  {
   "cell_type": "markdown",
   "metadata": {},
   "source": [
    "# Selection Sort"
   ]
  },
  {
   "cell_type": "code",
   "execution_count": 59,
   "metadata": {},
   "outputs": [
    {
     "name": "stdout",
     "output_type": "stream",
     "text": [
      "before sorting   [ 2  5  2  7  5 99 34 65 99]\n",
      "after sorting    [ 2  2  5  5  7 34 65 99 99]\n"
     ]
    }
   ],
   "source": [
    "arr=np.array([2,5,2,7,5,99,34,65,99])\n",
    "temp=0\n",
    "print(\"before sorting  \",arr)\n",
    "for i in range(len(arr)-1):\n",
    "    index=i\n",
    "    for j in range(i+1,len(arr)): #this loop is for finding smallest value in aa\n",
    "        if arr[j]<arr[index]: \n",
    "                index=j\n",
    "                \n",
    "    if arr[i]!=arr[index]:\n",
    "        temp=arr[i]\n",
    "        arr[i]=arr[index]\n",
    "        arr[index]=temp\n",
    "            \n",
    "print(\"after sorting   \",arr)"
   ]
  },
  {
   "cell_type": "markdown",
   "metadata": {},
   "source": [
    "# Insertion Sort"
   ]
  },
  {
   "cell_type": "code",
   "execution_count": 76,
   "metadata": {},
   "outputs": [
    {
     "name": "stdout",
     "output_type": "stream",
     "text": [
      "before sorting   [34 21 87 54 63  3]\n",
      "\n",
      "\n",
      "Sorting    [34 21 87 54 63  3]\n",
      "Sorting    [21 34 87 54 63  3]\n",
      "Sorting    [87 21 34 54 63  3]\n",
      "Sorting    [54 87 21 34 63  3]\n",
      "Sorting    [63 54 87 21 34  3]\n",
      "Sorting    [ 3 63 54 87 21 34]\n",
      "\n",
      "\n",
      "after sorting    [ 3 63 54 87 21 34]\n",
      "loop =  5\n"
     ]
    }
   ],
   "source": [
    "#this compares values with its left ones \n",
    "arr=np.array([34,21,87,54,63,3])\n",
    "temp=0\n",
    "print(\"before sorting  \",arr)\n",
    "print()\n",
    "print()\n",
    "for i in range(1,len(arr)):\n",
    "    temp=arr[i]\n",
    "    index=i\n",
    "    \n",
    "    while(index != 0 and arr[index-1 > temp]):\n",
    "        arr[index]=arr[index-1]\n",
    "        index-=1\n",
    "    arr[index]=temp\n",
    "   \n",
    "    print(\"Sorting   \",arr)\n",
    "\n",
    "print()\n",
    "print()\n",
    "print(\"after sorting   \",arr)\n",
    "\n",
    "print(\"loop = \",i)"
   ]
  },
  {
   "cell_type": "markdown",
   "metadata": {},
   "source": [
    "# Counting Sort"
   ]
  },
  {
   "cell_type": "code",
   "execution_count": null,
   "metadata": {},
   "outputs": [],
   "source": [
    " "
   ]
  },
  {
   "cell_type": "code",
   "execution_count": null,
   "metadata": {},
   "outputs": [],
   "source": []
  }
 ],
 "metadata": {
  "kernelspec": {
   "display_name": "Python 3",
   "language": "python",
   "name": "python3"
  },
  "language_info": {
   "codemirror_mode": {
    "name": "ipython",
    "version": 3
   },
   "file_extension": ".py",
   "mimetype": "text/x-python",
   "name": "python",
   "nbconvert_exporter": "python",
   "pygments_lexer": "ipython3",
   "version": "3.7.1"
  }
 },
 "nbformat": 4,
 "nbformat_minor": 2
}
