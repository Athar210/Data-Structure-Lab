{
 "cells": [
  {
   "cell_type": "markdown",
   "metadata": {},
   "source": [
    "# Exercise 4.1 Bubble Sort"
   ]
  },
  {
   "cell_type": "code",
   "execution_count": 9,
   "metadata": {},
   "outputs": [
    {
     "name": "stdout",
     "output_type": "stream",
     "text": [
      "Original Array : \n",
      "[4 3 9 3 1]\n",
      "\n",
      "\n",
      "[3 4 9 3 1]  step  1\n",
      "[3 4 3 9 1]  step  2\n",
      "[3 4 3 1 9]  step  3\n",
      "[3 3 4 1 9]  step  4\n",
      "[3 3 1 4 9]  step  5\n",
      "[3 1 3 4 9]  step  6\n",
      "[1 3 3 4 9]  step  7\n",
      "\n",
      "\n",
      "Sorted Array: \n",
      "[1 3 3 4 9]\n",
      "\n",
      "\n",
      "Total Swappings :  7\n",
      "Time taken for bubble sort =  0.00010120000001734297\n"
     ]
    },
    {
     "name": "stderr",
     "output_type": "stream",
     "text": [
      "C:\\Users\\athar\\Anaconda3\\lib\\site-packages\\ipykernel_launcher.py:33: DeprecationWarning: time.clock has been deprecated in Python 3.3 and will be removed from Python 3.8: use time.perf_counter or time.process_time instead\n",
      "C:\\Users\\athar\\Anaconda3\\lib\\site-packages\\ipykernel_launcher.py:35: DeprecationWarning: time.clock has been deprecated in Python 3.3 and will be removed from Python 3.8: use time.perf_counter or time.process_time instead\n"
     ]
    }
   ],
   "source": [
    "import numpy as np\n",
    "import time\n",
    "\n",
    "array = np.array([4,3,9,3,1])\n",
    "count = 0\n",
    "print(\"Original Array : \")\n",
    "print(array)\n",
    "print()\n",
    "print()\n",
    "for i in range(len(array)-1):\n",
    "    flag = False\n",
    "    for j in range(len(array)-1-i):\n",
    "        if array[j] > array [j+1]:\n",
    "            temp = array[j]\n",
    "            array[j] = array[j+1]\n",
    "            array[j+1] = temp\n",
    "            flag = True\n",
    "            count +=1\n",
    "            print(array ,\" step \",count)\n",
    "    \n",
    "    if(not flag):\n",
    "        break\n",
    "print()\n",
    "print()\n",
    "print(\"Sorted Array: \")\n",
    "print(array)\n",
    "print()\n",
    "print()\n",
    "print(\"Total Swappings : \",count)\n",
    "\n",
    "\n",
    "if __name__ == '__main__':\n",
    "    start = time.clock()\n",
    "\n",
    "    elapsed = (time.clock() - start)\n",
    "    print(\"Time taken for bubble sort = \", elapsed)"
   ]
  },
  {
   "cell_type": "markdown",
   "metadata": {},
   "source": [
    "# Exercise 4.2 Selection Sort"
   ]
  },
  {
   "cell_type": "code",
   "execution_count": 12,
   "metadata": {},
   "outputs": [
    {
     "name": "stdout",
     "output_type": "stream",
     "text": [
      "Original Array : \n",
      "[4 3 9 3 1]\n",
      "\n",
      "\n",
      "[1 3 9 3 4]  step  1\n",
      "[1 3 3 9 4]  step  2\n",
      "[1 3 3 4 9]  step  3\n",
      "\n",
      "\n",
      "Sorted Array: \n",
      "[1 3 3 4 9]\n",
      "\n",
      "\n",
      "Total Swappings :  3\n",
      "Time Taken For Selection Sort =  0.00025750000008883944\n"
     ]
    },
    {
     "name": "stderr",
     "output_type": "stream",
     "text": [
      "C:\\Users\\athar\\Anaconda3\\lib\\site-packages\\ipykernel_launcher.py:33: DeprecationWarning: time.clock has been deprecated in Python 3.3 and will be removed from Python 3.8: use time.perf_counter or time.process_time instead\n",
      "C:\\Users\\athar\\Anaconda3\\lib\\site-packages\\ipykernel_launcher.py:35: DeprecationWarning: time.clock has been deprecated in Python 3.3 and will be removed from Python 3.8: use time.perf_counter or time.process_time instead\n"
     ]
    }
   ],
   "source": [
    "array = np.array([4,3,9,3,1])\n",
    "count = 0\n",
    "print(\"Original Array : \")\n",
    "print(array)\n",
    "print()\n",
    "print()\n",
    "\n",
    "\n",
    "for i in range(len(array)-1):\n",
    "    index = i\n",
    "    for j in range(i+1,len(array)):\n",
    "        if array[j] < array[index]:\n",
    "            index = j\n",
    "    if array[i] != array[index]:\n",
    "        temp = array[i]\n",
    "        array[i] = array[index]\n",
    "        array[index] = temp\n",
    "        count +=1\n",
    "        print(array ,\" step \",count)\n",
    "    \n",
    "    if(not flag):\n",
    "        break\n",
    "print()\n",
    "print()\n",
    "print(\"Sorted Array: \")\n",
    "print(array)\n",
    "print()\n",
    "print()\n",
    "print(\"Total Swappings : \",count)\n",
    "\n",
    "\n",
    "if __name__ == '__main__':\n",
    "    start = time.clock()\n",
    "\n",
    "    elapsed = (time.clock() - start)\n",
    "    print(\"Time Taken For Selection Sort = \", elapsed)"
   ]
  },
  {
   "cell_type": "code",
   "execution_count": null,
   "metadata": {},
   "outputs": [],
   "source": []
  }
 ],
 "metadata": {
  "kernelspec": {
   "display_name": "Python 3",
   "language": "python",
   "name": "python3"
  },
  "language_info": {
   "codemirror_mode": {
    "name": "ipython",
    "version": 3
   },
   "file_extension": ".py",
   "mimetype": "text/x-python",
   "name": "python",
   "nbconvert_exporter": "python",
   "pygments_lexer": "ipython3",
   "version": "3.7.3"
  }
 },
 "nbformat": 4,
 "nbformat_minor": 2
}
