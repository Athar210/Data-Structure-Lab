{
 "cells": [
  {
   "cell_type": "markdown",
   "metadata": {},
   "source": [
    "# Lab 2\n",
    "# Exercise 1"
   ]
  },
  {
   "cell_type": "code",
   "execution_count": 1,
   "metadata": {},
   "outputs": [
    {
     "name": "stdout",
     "output_type": "stream",
     "text": [
      "Enter Player Name: athar\n",
      "Enter Player Name: ashir\n",
      "Enter Player Name: asghar\n",
      "Enter Player Name: saad\n",
      "Enter Player Name: ashaj\n",
      "Enter Player Name: zunair\n",
      "Enter Player Name: sameer\n",
      "Enter Player Name: waqar\n",
      "Enter Player Name: hamza\n",
      "Enter Player Name: hassan\n",
      "Enter Player Name: hasnain\n",
      "['athar' 'ashir' 'asghar' 'saad' 'ashaj' 'zunair' 'sameer' 'waqar' 'hamza'\n",
      " 'hassan' 'hasnain'] "
     ]
    }
   ],
   "source": [
    "import numpy as np\n",
    "names = np.array([str(input(\"Enter Player Name: \"))for i in range(11)])\n",
    "print(names,end=\" \")"
   ]
  },
  {
   "cell_type": "markdown",
   "metadata": {},
   "source": [
    "# Lab 2 \n",
    "# Exercise 2 "
   ]
  },
  {
   "cell_type": "code",
   "execution_count": 2,
   "metadata": {},
   "outputs": [
    {
     "name": "stdout",
     "output_type": "stream",
     "text": [
      "enter array length : 6\n",
      "6  random number is :\n",
      "446\n",
      "628\n",
      "379\n",
      "674\n",
      "504\n",
      "870\n",
      "Max number is :  870\n",
      "Min number is :  379\n",
      "average is :  583.5\n"
     ]
    }
   ],
   "source": [
    "import numpy as np\n",
    "from random import randrange, uniform\n",
    "\n",
    "N = int(input(\"enter array length : \"))\n",
    "array = np.array([0 for i in range(N)],dtype = object)\n",
    "print(N,\" random number is :\")\n",
    "for i in range(len(array)):\n",
    "    array[i] = randrange(0,1000)\n",
    "    print(array[i])\n",
    "Max = 0\n",
    "Min = 1000\n",
    "sum = 0\n",
    "for i in range(len(array)):\n",
    "    sum = sum + array[i]\n",
    "    if array[i] > Max:\n",
    "        Max = array[i]\n",
    "    elif array[i] < Min:\n",
    "        Min = array[i]\n",
    "    else :\n",
    "        continue\n",
    "avg = sum/len(array)\n",
    "print(\"Max number is : \",Max)\n",
    "print(\"Min number is : \",Min)\n",
    "print(\"average is : \",avg)"
   ]
  },
  {
   "cell_type": "markdown",
   "metadata": {},
   "source": [
    "# Lab 2 \n",
    "# Exercise 3"
   ]
  },
  {
   "cell_type": "code",
   "execution_count": 3,
   "metadata": {},
   "outputs": [
    {
     "name": "stdout",
     "output_type": "stream",
     "text": [
      "enter number of items :5\n",
      "enter 3- digit code :000\n",
      "enter 3- digit code :012\n",
      "enter 3- digit code :12\n",
      "please enter correct format\n",
      "enter 3- digit code :111\n",
      "enter 3- digit code :222\n",
      "enter 3- digit code :012\n",
      "no. of items in the shop  5\n",
      "000\n",
      "012\n",
      "111\n",
      "222\n",
      "012\n",
      "_____________________________________\n",
      "number of cards :  3\n",
      "number of sweets : 1\n",
      "number of stationery : 1\n",
      "number of toys : 0\n"
     ]
    }
   ],
   "source": [
    "import numpy as np\n",
    "from random import randrange\n",
    "\n",
    "item = int(input(\"enter number of items :\"))\n",
    "array = np.array([0 for i in range(item)],dtype = object)\n",
    "j =0\n",
    "\n",
    "code_array = np.array([0 for i in range(item)],dtype = object)\n",
    "for i in range(len(code_array)):\n",
    "    while(j==0) :\n",
    "        code = str(input(\"enter 3- digit code :\"))\n",
    "        if len(code) == 3:\n",
    "            if(len(code_array)<=item):\n",
    "                code_array[i] = code\n",
    "            break    \n",
    "        else:\n",
    "            print(\"please enter correct format\")\n",
    "            continue\n",
    "cards = 0\n",
    "sweets = 0\n",
    "stationery = 0\n",
    "toys = 0\n",
    "\n",
    "for i in range(len(code_array)):\n",
    "    for i in range(len(array)):\n",
    "        first = list(code_array[i])\n",
    "        if first[0] == \"0\":\n",
    "            array[i] = \"cards\"\n",
    "            cards = cards+1\n",
    "        elif first[0] == \"1\":\n",
    "            array[i] = \"sweets\"\n",
    "            sweets = sweets+1\n",
    "        elif first[0] == \"2\":\n",
    "            array[i] = \"stationery\"\n",
    "            stationery = stationery+1\n",
    "        elif first[0] == \"3\":\n",
    "            array[i] = \"toys\"\n",
    "            toys = toys+1\n",
    "        else :\n",
    "            break\n",
    "    break\n",
    "\n",
    "print(\"no. of items in the shop \",item)\n",
    "for i in code_array:\n",
    "    print(i)\n",
    "print(\"_____________________________________\")    \n",
    "print(\"number of cards : \",cards)\n",
    "print(\"number of sweets :\",sweets)\n",
    "print(\"number of stationery :\",stationery)\n",
    "print(\"number of toys :\",toys)"
   ]
  },
  {
   "cell_type": "markdown",
   "metadata": {},
   "source": [
    "# Lab 2 \n",
    "# Exercise 4"
   ]
  },
  {
   "cell_type": "code",
   "execution_count": 7,
   "metadata": {},
   "outputs": [
    {
     "name": "stdout",
     "output_type": "stream",
     "text": [
      "enter number of the salsa type: 3\n",
      "enter number of jars : 4\n",
      "enter names of the salsa type : 5\n",
      "________________________________\n",
      "number of jars for mild :  0\n",
      "number of jars for medium :  0\n",
      "number of jars for sweet :  0\n",
      "number of jars for hot :  0\n",
      "number of jars for zesty :  0\n",
      "number of total sales of jars :  0\n",
      "highest sales product :  0\n",
      "hight sales product :  \n",
      "lowest sales product :  0\n",
      "hight sales product :  5\n"
     ]
    }
   ],
   "source": [
    "import numpy as np\n",
    "number = int(input(\"enter number of the salsa type: \"))\n",
    "names_array = np.array([\"\" for i in range(number)],dtype = object)\n",
    "\n",
    "sales = np.array([0 for i in range(number)],dtype = object)\n",
    "mild = 0\n",
    "medium = 0\n",
    "sweet = 0\n",
    "hot = 0\n",
    "zesty = 0\n",
    "\n",
    "for i in range(len(names_array)):\n",
    "    for i in range(len(sales)):\n",
    "        sales[i] = int(input(\"enter number of jars : \"))\n",
    "        names_array[i] = str(input(\"enter names of the salsa type : \"))\n",
    "        if names_array[i] == \"mild\":\n",
    "            mild = sales[i]\n",
    "        elif names_array[i] == \"medium\":\n",
    "            medium = sales[i]\n",
    "        elif names_array[i] == \"sweet\":\n",
    "            sweet = sales[i]\n",
    "        elif names_array[i] == \"hot\":\n",
    "            hot = sales[i]\n",
    "        elif names_array[i] == \"zesty\":\n",
    "            zesty = sales[i]\n",
    "        else:\n",
    "            break\n",
    "    break\n",
    "total_sales = mild+medium+sweet+hot+zesty\n",
    "\n",
    "high_low_sales = np.array([mild,medium,sweet,hot,zesty])\n",
    "Max = 0\n",
    "Min = 100\n",
    "high_name = \"\"\n",
    "low_name = \"\"\n",
    "for i in range(len(high_low_sales)):\n",
    "    for i in range(len(names_array)):\n",
    "        if high_low_sales[i] > Max:\n",
    "            Max = high_low_sales[i]\n",
    "            high_name = names_array[i]\n",
    "        else:\n",
    "            continue\n",
    "    for i in range(len(high_low_sales)):\n",
    "        if high_low_sales[i] < Min:\n",
    "            Min = high_low_sales[i]\n",
    "            low_name = names_array[i]\n",
    "        else:\n",
    "            continue\n",
    "\n",
    "print(\"________________________________\")\n",
    "print(\"number of jars for mild : \",mild)\n",
    "print(\"number of jars for medium : \",medium)\n",
    "print(\"number of jars for sweet : \",sweet)\n",
    "print(\"number of jars for hot : \",hot)\n",
    "print(\"number of jars for zesty : \",zesty)\n",
    "print(\"number of total sales of jars : \",total_sales)\n",
    "print(\"highest sales product : \",Max)\n",
    "print(\"hight sales product : \",high_name)\n",
    "print(\"lowest sales product : \",Min)\n",
    "print(\"hight sales product : \",low_name)"
   ]
  },
  {
   "cell_type": "markdown",
   "metadata": {},
   "source": [
    "# Lab 2 \n",
    "# Exercise 4"
   ]
  },
  {
   "cell_type": "code",
   "execution_count": 8,
   "metadata": {},
   "outputs": [
    {
     "name": "stdout",
     "output_type": "stream",
     "text": [
      "enter the length of array: 5\n",
      "enter index 1 :2\n",
      "enter index 2 :3\n",
      "enter index 3 :4\n",
      "enter index 4 :56\n",
      "enter index 5 :5\n",
      "2 3 4 56 5 \n",
      "3 4 56 5 2 \n",
      "4 56 5 2 3 \n",
      "56 5 2 3 4 \n",
      "5 2 3 4 56 \n"
     ]
    }
   ],
   "source": [
    "import numpy as np\n",
    "N = int(input(\"enter the length of array: \"))\n",
    "array = np.array([0 for i in range(N)],dtype = object)\n",
    "for i in range(len(array)):\n",
    "    array[i] = int(input(f\"enter index {i+1} :\"))\n",
    "temp = 0\n",
    "for i in array:\n",
    "    print(i,end=\" \")\n",
    "print()\n",
    "for i in range(0,4):\n",
    "    for j in range(0,4):\n",
    "        temp = array[j]\n",
    "        array[j] = array[j+1]\n",
    "        array[j+1] = temp\n",
    "    for x in array:\n",
    "        print(x,end = \" \")\n",
    "        \n",
    "    print()    \n"
   ]
  },
  {
   "cell_type": "code",
   "execution_count": 9,
   "metadata": {},
   "outputs": [
    {
     "name": "stdout",
     "output_type": "stream",
     "text": [
      "Original array: \n",
      "1\n",
      "2\n",
      "3\n",
      "4\n",
      "5\n",
      "\n",
      "Array after left rotation: \n",
      "5\n",
      "1\n",
      "2\n",
      "3\n",
      "4\n"
     ]
    }
   ],
   "source": [
    "arr = [1, 2, 3, 4, 5];     \n",
    "#n determine the number of times an array should be rotated    \n",
    "n = 4;    \n",
    "     \n",
    "#Displays original array    \n",
    "print(\"Original array: \");    \n",
    "for i in range(0, len(arr)):    \n",
    "    print(arr[i]),     \n",
    "     \n",
    "#Rotate the given array by n times toward left    \n",
    "for i in range(0, n):    \n",
    "    #Stores the first element of the array    \n",
    "    first = arr[0];    \n",
    "        \n",
    "    for j in range(0, len(arr)-1):    \n",
    "        #Shift element of array by one    \n",
    "        arr[j] = arr[j+1];    \n",
    "            \n",
    "    #First element of array will be added to the end    \n",
    "    arr[len(arr)-1] = first;    \n",
    "     \n",
    "print();    \n",
    "     \n",
    "#Displays resulting array after rotation    \n",
    "print(\"Array after left rotation: \");    \n",
    "for i in range(0, len(arr)):    \n",
    "    print(arr[i]),    "
   ]
  },
  {
   "cell_type": "code",
   "execution_count": null,
   "metadata": {},
   "outputs": [],
   "source": []
  }
 ],
 "metadata": {
  "kernelspec": {
   "display_name": "Python 3",
   "language": "python",
   "name": "python3"
  },
  "language_info": {
   "codemirror_mode": {
    "name": "ipython",
    "version": 3
   },
   "file_extension": ".py",
   "mimetype": "text/x-python",
   "name": "python",
   "nbconvert_exporter": "python",
   "pygments_lexer": "ipython3",
   "version": "3.7.3"
  }
 },
 "nbformat": 4,
 "nbformat_minor": 2
}
