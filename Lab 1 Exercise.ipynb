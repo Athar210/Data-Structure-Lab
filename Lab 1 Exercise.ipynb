{
 "cells": [
  {
   "cell_type": "markdown",
   "metadata": {},
   "source": [
    "# Exercise 1.1"
   ]
  },
  {
   "cell_type": "code",
   "execution_count": 2,
   "metadata": {},
   "outputs": [
    {
     "name": "stdout",
     "output_type": "stream",
     "text": [
      "Enter amount: 12000\n",
      "no tax deducted\n",
      "Remaining balance =  38000\n"
     ]
    }
   ],
   "source": [
    "balance=50000\n",
    "limit=30000\n",
    "while(True):\n",
    "    x=int(input(\"Enter amount: \"))\n",
    "    if x>balance or x>=limit:\n",
    "        print(\"sorry you dont have that much amount: \")\n",
    "    elif x>limit:\n",
    "        print(\"sorry you have only 30000 limit: \")\n",
    "    elif balance<5000:\n",
    "        tax=(balance/100)*2\n",
    "        balance-=tax\n",
    "        print(\"2% tax has been deducted from your account: \")\n",
    "        print(f\"You have {balance} remaining in your account: \")\n",
    "    elif balance>=5000:\n",
    "        print(\"no tax deducted\")\n",
    "        balance-=x\n",
    "        print(\"Remaining balance = \",balance)\n",
    "        break\n",
    "#print(\"Remaining balance = \",balance)"
   ]
  },
  {
   "cell_type": "markdown",
   "metadata": {},
   "source": [
    "# Exercise 1.2"
   ]
  },
  {
   "cell_type": "code",
   "execution_count": 32,
   "metadata": {},
   "outputs": [
    {
     "name": "stdout",
     "output_type": "stream",
     "text": [
      "Enter numbers: 4534543534\n",
      "total numbers:  10\n"
     ]
    }
   ],
   "source": [
    "count=0\n",
    "x=int(input(\"Enter numbers: \"))\n",
    "while x != 0:\n",
    "    x//=10\n",
    "    count+=1\n",
    "print(\"total numbers: \",count)"
   ]
  },
  {
   "cell_type": "markdown",
   "metadata": {},
   "source": [
    "# Exercise 1.3"
   ]
  },
  {
   "cell_type": "code",
   "execution_count": 29,
   "metadata": {},
   "outputs": [
    {
     "name": "stdout",
     "output_type": "stream",
     "text": [
      "Enter item price: 450\n",
      "Enter item quantity: 5\n",
      "your total bill =  2250\n",
      "You received discount of 220\n",
      "Pay 2030 only\n"
     ]
    }
   ],
   "source": [
    "x=int(input(\"Enter item price: \"))\n",
    "y=int(input(\"Enter item quantity: \"))\n",
    "bill=x*y\n",
    "print(\"your total bill = \",bill)\n",
    "if bill>500:\n",
    "    disc=int(bill/100)*10\n",
    "    print(f\"You received discount of {disc}\")\n",
    "    print(f\"Pay {bill-disc} only\")"
   ]
  },
  {
   "cell_type": "markdown",
   "metadata": {},
   "source": [
    "# Exercise 1.4"
   ]
  },
  {
   "cell_type": "code",
   "execution_count": 27,
   "metadata": {},
   "outputs": [
    {
     "name": "stdout",
     "output_type": "stream",
     "text": [
      "Enter cost of buying: 200\n",
      "Enter cost of selling: 11\n",
      "you are in loss of  189\n"
     ]
    }
   ],
   "source": [
    "cost=int(input(\"Enter cost of buying: \"))\n",
    "sell=int(input(\"Enter cost of selling: \"))\n",
    "if cost>sell:\n",
    "    print(\"you are in loss of \",cost-sell)\n",
    "elif cost<sell:\n",
    "    print(\"you are in profit of \",sell-cost)\n",
    "elif cost==sell:\n",
    "    print(\"no profit or loss \")"
   ]
  },
  {
   "cell_type": "markdown",
   "metadata": {},
   "source": [
    "## Exercise 1.5"
   ]
  },
  {
   "cell_type": "code",
   "execution_count": 24,
   "metadata": {},
   "outputs": [
    {
     "name": "stdout",
     "output_type": "stream",
     "text": [
      "Enter days: 45\n",
      "Membership cancelled\n"
     ]
    }
   ],
   "source": [
    "days=int(input(\"Enter days: \"))\n",
    "if days>0 and days<=5:\n",
    "    print(\"50 rupees fine\")\n",
    "elif days>5 and days<=10:\n",
    "    print(\"100 rupees fine\")\n",
    "elif days>10 and days<=30:\n",
    "    print(\"150 rupees fine\")\n",
    "elif days>30:\n",
    "    print(\"Membership cancelled\")"
   ]
  },
  {
   "cell_type": "markdown",
   "metadata": {},
   "source": [
    "# Exercise 1.6"
   ]
  },
  {
   "cell_type": "code",
   "execution_count": 23,
   "metadata": {},
   "outputs": [
    {
     "name": "stdout",
     "output_type": "stream",
     "text": [
      "Enter a num: 6\n",
      "factorial of 6 is 720\n"
     ]
    }
   ],
   "source": [
    "x=int(input(\"Enter a num: \"))\n",
    "fact=1\n",
    "if x<0:\n",
    "    print(\"Enter a positive integar\")\n",
    "elif x==0:\n",
    "    print(\"factorial of 0 is 1\")\n",
    "else:\n",
    "    for i in range(1,x+1):\n",
    "        fact *= i\n",
    "    print(f\"factorial of {x} is {fact}\")"
   ]
  },
  {
   "cell_type": "markdown",
   "metadata": {},
   "source": [
    "# Exercise 1.7"
   ]
  },
  {
   "cell_type": "code",
   "execution_count": 16,
   "metadata": {},
   "outputs": [
    {
     "name": "stdout",
     "output_type": "stream",
     "text": [
      "Enter fibonacci series number: 12\n",
      "Fibonacci series: \n",
      "0\n",
      "1\n",
      "1\n",
      "2\n",
      "3\n",
      "5\n",
      "8\n",
      "13\n",
      "21\n",
      "34\n",
      "55\n",
      "89\n"
     ]
    }
   ],
   "source": [
    "x=int(input(\"Enter fibonacci series number: \"))\n",
    "n1,n2 =0,1\n",
    "count=0\n",
    "if x<=0:\n",
    "    print(\"Enter a positive integar nigga: \")\n",
    "elif x==1:\n",
    "    print(\"Fibonacci series upto \",x)\n",
    "else:\n",
    "    print(\"Fibonacci series: \")\n",
    "    while count<x:\n",
    "        print(n1)\n",
    "        nth=n1+n2\n",
    "        #updating values\n",
    "        n1=n2\n",
    "        n2=nth\n",
    "        count+=1"
   ]
  },
  {
   "cell_type": "markdown",
   "metadata": {},
   "source": [
    "# Exercise 1.8"
   ]
  },
  {
   "cell_type": "code",
   "execution_count": 11,
   "metadata": {},
   "outputs": [
    {
     "name": "stdout",
     "output_type": "stream",
     "text": [
      "1 ******\n",
      "1 2 *****\n",
      "1 2 3 ****\n",
      "1 2 3 4 ***\n",
      "1 2 3 4 5 **\n",
      "1 2 3 4 5 6 *\n",
      "1 2 3 4 5 6 7 \n"
     ]
    }
   ],
   "source": [
    "for x in range(2,9):\n",
    "    for y in range(1,8):\n",
    "        if y==x:\n",
    "            break\n",
    "        else:\n",
    "            print(y,end=\" \")\n",
    "    for z in range(8,1,-1):\n",
    "        if z==x:\n",
    "            break\n",
    "        else:\n",
    "            print(end=\"*\")\n",
    "    print()"
   ]
  },
  {
   "cell_type": "markdown",
   "metadata": {},
   "source": [
    "#  Exercise 1.9"
   ]
  },
  {
   "cell_type": "code",
   "execution_count": 9,
   "metadata": {},
   "outputs": [
    {
     "name": "stdout",
     "output_type": "stream",
     "text": [
      "Enter a number for printing times of stars: 6\n",
      "*****\n",
      "*****\n",
      "*****\n",
      "*****\n",
      "*****\n",
      "*****\n"
     ]
    }
   ],
   "source": [
    "star=\"*****\"\n",
    "x=int(input(\"Enter a number for printing times of stars: \"))\n",
    "for i in range(x):\n",
    "    print(star,end=\"\\n\")\n",
    "    "
   ]
  },
  {
   "cell_type": "markdown",
   "metadata": {},
   "source": [
    "# Exercise 1.10"
   ]
  },
  {
   "cell_type": "code",
   "execution_count": 6,
   "metadata": {},
   "outputs": [
    {
     "name": "stdout",
     "output_type": "stream",
     "text": [
      " enter marks of student 1: 44\n",
      " enter marks of student 2: 55\n",
      " enter marks of student 3: 66\n",
      " enter marks of student 4: 77\n",
      " enter marks of student 5: 88\n",
      " enter marks of student 6: 99\n",
      " enter marks of student 7: 45\n",
      " enter marks of student 8: 34\n",
      " enter marks of student 9: 23\n",
      " enter marks of student 10: 65\n",
      "==============================\n",
      "max = 99\n",
      "min = 23\n",
      "avg = 53.1\n"
     ]
    }
   ],
   "source": [
    "x=np.arange(10)\n",
    "for i in range(10):\n",
    "    y=input(f\" enter marks of student {i+1}: \")\n",
    "    x[i]=y\n",
    "print(\"==============================\")\n",
    "mx=0\n",
    "mn = 100\n",
    "ag=0\n",
    "for j in range(len(x)):\n",
    "        if x[j] > mx:\n",
    "            ag += x[j]\n",
    "            mx = x[j]\n",
    "        elif x[j] < mn:\n",
    "            ag += x[j]\n",
    "            mn = x[j]\n",
    "            \n",
    "print(f\"max = {mx}\")\n",
    "print(f\"min = {mn}\")\n",
    "print(f\"avg = {ag/10}\")"
   ]
  },
  {
   "cell_type": "markdown",
   "metadata": {},
   "source": [
    "# Exercise 1.11"
   ]
  },
  {
   "cell_type": "code",
   "execution_count": 2,
   "metadata": {},
   "outputs": [
    {
     "name": "stdout",
     "output_type": "stream",
     "text": [
      "[1 2 3 4 5]\n",
      "[1 2 3 4 5]\n",
      "[1 2 3 4 5]\n",
      "[1 2 3 4 5]\n",
      "[1 2 3 4 5]\n"
     ]
    }
   ],
   "source": [
    "import numpy as np\n",
    "firstArray=np.array([0 for i in range(5)])\n",
    "length=len(firstArray)\n",
    "\n",
    "for i in range(length):\n",
    "    firstArray[i]=i+1\n",
    "for j in(firstArray):\n",
    "    print(firstArray)"
   ]
  },
  {
   "cell_type": "markdown",
   "metadata": {},
   "source": [
    "# Exercise 1.12"
   ]
  },
  {
   "cell_type": "code",
   "execution_count": 5,
   "metadata": {},
   "outputs": [
    {
     "name": "stdout",
     "output_type": "stream",
     "text": [
      "How Many Players Name You Want To Enter: 5\n",
      "\n",
      "Enter 1 Player Name: harry\n",
      "\n",
      "Enter 2 Player Name: alex\n",
      "\n",
      "Enter 3 Player Name: danny\n",
      "\n",
      "Enter 4 Player Name: miller\n",
      "\n",
      "Enter 5 Player Name: shawn\n",
      "=========OUTPUT=========\n",
      "harry alex danny miller shawn "
     ]
    }
   ],
   "source": [
    "N = int(input(\"How Many Players Name You Want To Enter: \"))\n",
    "names=np.array([' ' for i in range(N)],dtype=object)\n",
    "for j in range(len(names)):\n",
    "    print()\n",
    "    names[j]=input(f\"Enter {j+1} Player Name: \")\n",
    "print(\"=========OUTPUT=========\")\n",
    "for k in(names):\n",
    "    print(k,end=\" \")"
   ]
  },
  {
   "cell_type": "code",
   "execution_count": null,
   "metadata": {},
   "outputs": [],
   "source": []
  },
  {
   "cell_type": "code",
   "execution_count": null,
   "metadata": {},
   "outputs": [],
   "source": []
  }
 ],
 "metadata": {
  "kernelspec": {
   "display_name": "Python 3",
   "language": "python",
   "name": "python3"
  },
  "language_info": {
   "codemirror_mode": {
    "name": "ipython",
    "version": 3
   },
   "file_extension": ".py",
   "mimetype": "text/x-python",
   "name": "python",
   "nbconvert_exporter": "python",
   "pygments_lexer": "ipython3",
   "version": "3.7.3"
  }
 },
 "nbformat": 4,
 "nbformat_minor": 2
}
