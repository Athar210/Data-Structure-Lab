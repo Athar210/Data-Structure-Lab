{
 "cells": [
  {
   "cell_type": "markdown",
   "metadata": {},
   "source": [
    "# Lab: 3 \n",
    "# Exercise:1"
   ]
  },
  {
   "cell_type": "code",
   "execution_count": 3,
   "metadata": {},
   "outputs": [
    {
     "name": "stdout",
     "output_type": "stream",
     "text": [
      "1 2 3 4 5 6 7 8 9 \n",
      "2 4 6 8 10 12 14 16 18 \n",
      "3 6 9 12 15 18 21 24 27 \n",
      "4 8 12 16 20 24 28 32 36 \n",
      "5 10 15 20 25 30 35 40 45 \n",
      "6 12 18 24 30 36 42 48 54 \n",
      "7 14 21 28 35 42 49 56 63 \n",
      "8 16 24 32 40 48 56 64 72 \n",
      "9 18 27 36 45 54 63 72 81 \n"
     ]
    }
   ],
   "source": [
    "for i in range(1,10):\n",
    "    for j in range(1,10):\n",
    "        print(j*i,end=' ')\n",
    "    print()"
   ]
  },
  {
   "cell_type": "markdown",
   "metadata": {},
   "source": [
    "# Lab: 3 \n",
    "# Exercise: 2"
   ]
  },
  {
   "cell_type": "code",
   "execution_count": 194,
   "metadata": {},
   "outputs": [
    {
     "data": {
      "text/plain": [
       "array([[' ', '        Period 1 ', 'Period 2 ', 'Period 3 ', 'Period 4 '],\n",
       "       ['Monday', '   PF', '       PF', '       OFF', '      OFF'],\n",
       "       ['Tuesday', '  ICT', '      ICT', '      OFF', '      OFF'],\n",
       "       ['Wednesday', 'OFF', '      OFF', '      PIS', '      PIS'],\n",
       "       ['Thursday', ' VLM', '      VLM', '      PF Lab', '   PF Lab'],\n",
       "       ['Friday', '   OFF', '      OFF', '      ICT Lab', '  ICT Lab']],\n",
       "      dtype='<U17')"
      ]
     },
     "execution_count": 194,
     "metadata": {},
     "output_type": "execute_result"
    }
   ],
   "source": [
    "import numpy as np\n",
    "a=[' ','        Period 1 ','Period 2 ','Period 3 ','Period 4 ']\n",
    "b=['Monday','   PF','       PF','       OFF','      OFF']\n",
    "c=['Tuesday','  ICT','      ICT','      OFF','      OFF']\n",
    "d=['Wednesday','OFF','      OFF','      PIS','      PIS']\n",
    "e=['Thursday',' VLM','      VLM','      PF Lab','   PF Lab']\n",
    "f=['Friday','   OFF','      OFF','      ICT Lab','  ICT Lab']\n",
    "x=np.array([a,b,c,d,e,f])\n",
    "x"
   ]
  },
  {
   "cell_type": "markdown",
   "metadata": {},
   "source": [
    "# Lab: 3 \n",
    "# Exercise: 3"
   ]
  },
  {
   "cell_type": "code",
   "execution_count": 103,
   "metadata": {},
   "outputs": [
    {
     "name": "stdout",
     "output_type": "stream",
     "text": [
      "[70, 80, 90]\n",
      "[158, 184, 210]\n"
     ]
    }
   ],
   "source": [
    "m1=np.array([[1,2,3,4],[5,6,7,8]])\n",
    "m2=np.array([[1,2,3],[4,5,6],[7,8,9],[10,11,12]])\n",
    "result = [[0,0,0,],\n",
    "         [0,0,0,],\n",
    "         ]\n",
    "\n",
    "for i in range(len(m1)):\n",
    "\n",
    "    for j in range(len(m2[0])):\n",
    "        for k in range(len(m2)):\n",
    "            result[i][j] += m1[i][k] * m2[k][j]\n",
    "for r in result:\n",
    "    print(r)"
   ]
  },
  {
   "cell_type": "markdown",
   "metadata": {},
   "source": [
    "# Lab: 3 \n",
    "# Exercise: 4"
   ]
  },
  {
   "cell_type": "code",
   "execution_count": 294,
   "metadata": {
    "scrolled": true
   },
   "outputs": [
    {
     "name": "stdout",
     "output_type": "stream",
     "text": [
      "[[1 2 3]\n",
      " [4 5 6]\n",
      " [9 8 9]]\n",
      "Answer =>  -2\n"
     ]
    }
   ],
   "source": [
    "x=np.array([[1,2,3],[4,5,6],[9,8,9]])\n",
    "d1=0\n",
    "d2=0\n",
    "for i in range(0,3):\n",
    "    for j in range(0,3):\n",
    "        \n",
    "        # First diagonal \n",
    "        if (i == j): \n",
    "            d1 += x[i][j] \n",
    "  \n",
    "        # 2nd diagonal \n",
    "        if (i == 3 - j-1 ): \n",
    "            d2 += x[i][j]\n",
    "result= d1-d2\n",
    "print(x)\n",
    "print(\"Answer => \",result)"
   ]
  },
  {
   "cell_type": "markdown",
   "metadata": {},
   "source": [
    "# Lab: 3 \n",
    "# Exercise: 5"
   ]
  },
  {
   "cell_type": "code",
   "execution_count": 318,
   "metadata": {},
   "outputs": [
    {
     "name": "stdout",
     "output_type": "stream",
     "text": [
      "Enter monkey number 1's 1 day food: 32\n",
      "Enter monkey number 1's 2 day food: 32\n",
      "Enter monkey number 1's 3 day food: 34\n",
      "Enter monkey number 1's 4 day food: 56\n",
      "Enter monkey number 1's 5 day food: 345\n",
      "Enter monkey number 1's 6 day food: 34\n",
      "Enter monkey number 1's 7 day food: 345\n",
      "Enter monkey number 2's 1 day food: 34\n",
      "Enter monkey number 2's 2 day food: 34\n",
      "Enter monkey number 2's 3 day food: 65\n",
      "Enter monkey number 2's 4 day food: 324654\n",
      "Enter monkey number 2's 5 day food: 3342\n",
      "Enter monkey number 2's 6 day food: 3243\n",
      "Enter monkey number 2's 7 day food: 43\n",
      "Enter monkey number 3's 1 day food: 32\n",
      "Enter monkey number 3's 2 day food: 54\n",
      "Enter monkey number 3's 3 day food: 234\n",
      "Enter monkey number 3's 4 day food: 45\n",
      "Enter monkey number 3's 5 day food: 65\n",
      "Enter monkey number 3's 6 day food: 76\n",
      "Enter monkey number 3's 7 day food: 3\n",
      "Monkey 2 has eaten huge amount of food  331415\n",
      "Monkey 3 has eaten least amount of food  509\n",
      "Monkey 1 has eaten average amount of food  878\n"
     ]
    }
   ],
   "source": [
    "x=np.array([[0 for i in range(7)]for j in range(3)])\n",
    "d1=0\n",
    "d2=0\n",
    "d3=0\n",
    "for i in range(3):\n",
    "    for j in range(7):\n",
    "               x[i][j]= input(f\"Enter monkey number {i+1}'s {j+1} day food: \")\n",
    "for i in range(3):\n",
    "    for j in range(7):\n",
    "        if(i==0):\n",
    "            d1+=x[i][j]\n",
    "        elif(i==1):\n",
    "            d2+=x[i][j]\n",
    "        elif(i==2):\n",
    "            d3+=x[i][j]\n",
    "if(d1>d2 and d1>d3):\n",
    "    print(\"Monkey 1 has eaten huge amount of food \",d1)\n",
    "elif(d2>d1 and d2>d3):\n",
    "    print(\"Monkey 2 has eaten huge amount of food \",d2)\n",
    "elif(d3>d2 and d3>d1):\n",
    "    print(\"Monkey 3 has eaten huge amount of food \",d3)\n",
    "\n",
    "    \n",
    "if(d1<d2 and d1<d3):\n",
    "    print(\"Monkey 1 has eaten least amount of food \",d1)\n",
    "elif(d2<d1 and d2<d3):\n",
    "    print(\"Monkey 2 has eaten least amount of food \",d2)\n",
    "elif(d3<d2 and d3<d1):\n",
    "    print(\"Monkey 3 has eaten least amount of food \",d3)\n",
    "\n",
    "    \n",
    "if((d1>d2 or d1>d3) and (d1<d3 or d1<d2)):\n",
    "    print(\"Monkey 1 has eaten average amount of food \",d1)\n",
    "elif((d2>d1 or d2>d3) and (d2<d3 or d2<d1)):\n",
    "    print(\"Monkey 2 has eaten average amount of food \",d2)\n",
    "elif((d3>d2 or d3>d1) and (d3<d1 or d3<d2)):\n",
    "    print(\"Monkey 3 has eaten average amount of food \",d3)\n"
   ]
  },
  {
   "cell_type": "code",
   "execution_count": null,
   "metadata": {},
   "outputs": [],
   "source": []
  },
  {
   "cell_type": "markdown",
   "metadata": {},
   "source": [
    "# Lab: 3\n",
    "# Exercise: 6"
   ]
  },
  {
   "cell_type": "code",
   "execution_count": 2,
   "metadata": {
    "cocalc": {
     "outputs": {
      "0": {
       "name": "input",
       "opts": {
        "password": false,
        "prompt": "Enter student 1 exam 1 part 1 score"
       },
       "output_type": "stream",
       "value": "4"
      },
      "1": {
       "name": "input",
       "opts": {
        "password": false,
        "prompt": "Enter student 1 exam 1 part 2 score"
       },
       "output_type": "stream",
       "value": "4"
      },
      "10": {
       "name": "input",
       "opts": {
        "password": false,
        "prompt": "Enter student 2 exam 1 part 1 score"
       },
       "output_type": "stream",
       "value": "23"
      },
      "11": {
       "name": "input",
       "opts": {
        "password": false,
        "prompt": "Enter student 2 exam 1 part 2 score"
       },
       "output_type": "stream",
       "value": "65"
      },
      "12": {
       "name": "input",
       "opts": {
        "password": false,
        "prompt": "Enter student 2 exam 2 part 1 score"
       },
       "output_type": "stream",
       "value": "34"
      },
      "13": {
       "name": "input",
       "opts": {
        "password": false,
        "prompt": "Enter student 2 exam 2 part 2 score"
       },
       "output_type": "stream",
       "value": "23"
      },
      "14": {
       "name": "input",
       "opts": {
        "password": false,
        "prompt": "Enter student 2 exam 3 part 1 score"
       },
       "output_type": "stream",
       "value": "65"
      },
      "15": {
       "name": "input",
       "opts": {
        "password": false,
        "prompt": "Enter student 2 exam 3 part 2 score"
       },
       "output_type": "stream",
       "value": "34"
      },
      "16": {
       "name": "input",
       "opts": {
        "password": false,
        "prompt": "Enter student 2 exam 4 part 1 score"
       },
       "output_type": "stream",
       "value": "43"
      },
      "17": {
       "name": "input",
       "opts": {
        "password": false,
        "prompt": "Enter student 2 exam 4 part 2 score"
       },
       "output_type": "stream",
       "value": "65"
      },
      "18": {
       "name": "input",
       "opts": {
        "password": false,
        "prompt": "Enter student 2 exam 5 part 1 score"
       },
       "output_type": "stream",
       "value": "34"
      },
      "19": {
       "name": "input",
       "opts": {
        "password": false,
        "prompt": "Enter student 2 exam 5 part 2 score"
       },
       "output_type": "stream",
       "value": "65"
      },
      "2": {
       "name": "input",
       "opts": {
        "password": false,
        "prompt": "Enter student 1 exam 2 part 1 score"
       },
       "output_type": "stream",
       "value": "4"
      },
      "20": {
       "name": "input",
       "opts": {
        "password": false,
        "prompt": "Enter student 3 exam 1 part 1 score"
       },
       "output_type": "stream",
       "value": "34"
      },
      "3": {
       "name": "input",
       "opts": {
        "password": false,
        "prompt": "Enter student 1 exam 2 part 2 score"
       },
       "output_type": "stream",
       "value": "5"
      },
      "4": {
       "name": "input",
       "opts": {
        "password": false,
        "prompt": "Enter student 1 exam 3 part 1 score"
       },
       "output_type": "stream",
       "value": "2"
      },
      "5": {
       "name": "input",
       "opts": {
        "password": false,
        "prompt": "Enter student 1 exam 3 part 2 score"
       },
       "output_type": "stream",
       "value": "6"
      },
      "6": {
       "name": "input",
       "opts": {
        "password": false,
        "prompt": "Enter student 1 exam 4 part 1 score"
       },
       "output_type": "stream",
       "value": "34"
      },
      "7": {
       "name": "input",
       "opts": {
        "password": false,
        "prompt": "Enter student 1 exam 4 part 2 score"
       },
       "output_type": "stream",
       "value": "23"
      },
      "8": {
       "name": "input",
       "opts": {
        "password": false,
        "prompt": "Enter student 1 exam 5 part 1 score"
       },
       "output_type": "stream",
       "value": "65"
      },
      "9": {
       "name": "input",
       "opts": {
        "password": false,
        "prompt": "Enter student 1 exam 5 part 2 score"
       },
       "output_type": "stream",
       "value": "34"
      }
     }
    }
   },
   "outputs": [
    {
     "name": "stdout",
     "output_type": "stream",
     "text": [
      "Enter student 1 score of part 1 of exam 1: 7\n",
      "Enter student 1 score of part 1 of exam 2: 8\n",
      "Enter student 1 score of part 1 of exam 3: 9\n",
      "Enter student 1 score of part 1 of exam 4: 8\n",
      "Enter student 1 score of part 1 of exam 5: 6\n",
      "Enter student 1 score of part 1 of exam 6: 6\n",
      "Enter student 1 score of part 1 of exam 7: 5\n",
      "Enter student 1 score of part 2 of exam 1: 6\n",
      "Enter student 1 score of part 2 of exam 2: 56\n",
      "Enter student 1 score of part 2 of exam 3: 76\n",
      "Enter student 1 score of part 2 of exam 4: 5\n",
      "Enter student 1 score of part 2 of exam 5: 7\n",
      "Enter student 1 score of part 2 of exam 6: 45\n",
      "Enter student 1 score of part 2 of exam 7: 65\n",
      "Enter student 2 score of part 1 of exam 1: 4\n",
      "Enter student 2 score of part 1 of exam 2: 7\n",
      "Enter student 2 score of part 1 of exam 3: 8\n",
      "Enter student 2 score of part 1 of exam 4: 5\n",
      "Enter student 2 score of part 1 of exam 5: 45\n",
      "Enter student 2 score of part 1 of exam 6: 34\n",
      "Enter student 2 score of part 1 of exam 7: 6\n",
      "Enter student 2 score of part 2 of exam 1: 8\n",
      "Enter student 2 score of part 2 of exam 2: 5\n",
      "Enter student 2 score of part 2 of exam 3: 7\n",
      "Enter student 2 score of part 2 of exam 4: 4\n",
      "Enter student 2 score of part 2 of exam 5: 34\n",
      "Enter student 2 score of part 2 of exam 6: 6\n",
      "Enter student 2 score of part 2 of exam 7: 56\n",
      "Enter student 3 score of part 1 of exam 1: 6\n",
      "Enter student 3 score of part 1 of exam 2: 4\n",
      "Enter student 3 score of part 1 of exam 3: 7\n",
      "Enter student 3 score of part 1 of exam 4: 8\n",
      "Enter student 3 score of part 1 of exam 5: 4\n",
      "Enter student 3 score of part 1 of exam 6: 34\n",
      "Enter student 3 score of part 1 of exam 7: 4\n",
      "Enter student 3 score of part 2 of exam 1: 2\n",
      "Enter student 3 score of part 2 of exam 2: 32\n",
      "Enter student 3 score of part 2 of exam 3: 30\n",
      "Enter student 3 score of part 2 of exam 4: 54\n",
      "Enter student 3 score of part 2 of exam 5: 8\n",
      "Enter student 3 score of part 2 of exam 6: 2\n",
      "Enter student 3 score of part 2 of exam 7: 6\n",
      "Enter student 4 score of part 1 of exam 1: 9\n",
      "Enter student 4 score of part 1 of exam 2: 4\n",
      "Enter student 4 score of part 1 of exam 3: 7\n",
      "Enter student 4 score of part 1 of exam 4: 1\n",
      "Enter student 4 score of part 1 of exam 5: 3\n",
      "Enter student 4 score of part 1 of exam 6: 2\n",
      "Enter student 4 score of part 1 of exam 7: 5\n",
      "Enter student 4 score of part 2 of exam 1: 6\n",
      "Enter student 4 score of part 2 of exam 2: 9\n",
      "Enter student 4 score of part 2 of exam 3: 61\n",
      "Enter student 4 score of part 2 of exam 4: 32\n",
      "Enter student 4 score of part 2 of exam 5: 24\n",
      "Enter student 4 score of part 2 of exam 6: 30\n",
      "Enter student 4 score of part 2 of exam 7: 10\n",
      "Enter student 5 score of part 1 of exam 1: 24\n",
      "Enter student 5 score of part 1 of exam 2: 35\n",
      "Enter student 5 score of part 1 of exam 3: 65\n",
      "Enter student 5 score of part 1 of exam 4: 62\n",
      "Enter student 5 score of part 1 of exam 5: 36\n",
      "Enter student 5 score of part 1 of exam 6: 62\n",
      "Enter student 5 score of part 1 of exam 7: 15\n",
      "Enter student 5 score of part 2 of exam 1: 1\n",
      "Enter student 5 score of part 2 of exam 2: 6\n",
      "Enter student 5 score of part 2 of exam 3: 5\n",
      "Enter student 5 score of part 2 of exam 4: 8\n",
      "Enter student 5 score of part 2 of exam 5: 5\n",
      "Enter student 5 score of part 2 of exam 6: 1\n",
      "Enter student 5 score of part 2 of exam 7: 5\n",
      "Enter student 6 score of part 1 of exam 1: 48\n",
      "Enter student 6 score of part 1 of exam 2: 35\n",
      "Enter student 6 score of part 1 of exam 3: 21\n",
      "Enter student 6 score of part 1 of exam 4: 31\n",
      "Enter student 6 score of part 1 of exam 5: 35\n",
      "Enter student 6 score of part 1 of exam 6: 23\n",
      "Enter student 6 score of part 1 of exam 7: 51\n",
      "Enter student 6 score of part 2 of exam 1: 51\n",
      "Enter student 6 score of part 2 of exam 2: 8\n",
      "Enter student 6 score of part 2 of exam 3: 3\n",
      "Enter student 6 score of part 2 of exam 4: 15\n",
      "Enter student 6 score of part 2 of exam 5: 2\n",
      "Enter student 6 score of part 2 of exam 6: 53\n",
      "Enter student 6 score of part 2 of exam 7: 15\n",
      "Enter student 7 score of part 1 of exam 1: 3\n",
      "Enter student 7 score of part 1 of exam 2: 12\n",
      "Enter student 7 score of part 1 of exam 3: 15\n",
      "Enter student 7 score of part 1 of exam 4: 6\n",
      "Enter student 7 score of part 1 of exam 5: 31\n",
      "Enter student 7 score of part 1 of exam 6: 5\n",
      "Enter student 7 score of part 1 of exam 7: 21\n",
      "Enter student 7 score of part 2 of exam 1: 56\n",
      "Enter student 7 score of part 2 of exam 2: 3\n",
      "Enter student 7 score of part 2 of exam 3: 54\n",
      "Enter student 7 score of part 2 of exam 4: 15\n",
      "Enter student 7 score of part 2 of exam 5: 25\n",
      "Enter student 7 score of part 2 of exam 6: 35\n",
      "Enter student 7 score of part 2 of exam 7: 26\n",
      "\n",
      "********* RESULT *********\n",
      "\n",
      "Students 1 total marks:  309\n",
      "Students 2 total marks:  229\n",
      "Students 3 total marks:  201\n",
      "Students 4 total marks:  203\n",
      "Students 5 total marks:  330\n",
      "Students 6 total marks:  391\n",
      "Students 7 total marks:  307\n"
     ]
    }
   ],
   "source": [
    "import numpy as np\n",
    "x=np.array([[[0 for i in range(7)]for j in range(2)] for k in range(7)])\n",
    "#x = np.zeros((2, 2, 2))\n",
    "for i in range(7):\n",
    "    for j in range(2):\n",
    "        for k in range(7):\n",
    "            x[i][j][k]=input(f\"Enter student {i+1} score of part {j+1} of exam {k+1}: \")\n",
    "            \n",
    "            \n",
    "d1=0\n",
    "d2=0\n",
    "d3=0\n",
    "d4=0\n",
    "d5=0\n",
    "d6=0\n",
    "d7=0\n",
    "\n",
    "\n",
    "for i in range(7): \n",
    "    for j in range(2):\n",
    "        for k in range(7):\n",
    "            if(i==0):\n",
    "                d1+=x[i][j][k]\n",
    "            elif(i==1):\n",
    "                d2+=x[i][j][k]\n",
    "            elif(i==2):\n",
    "                d3+=x[i][j][k]\n",
    "            elif(i==3):\n",
    "                d4+=x[i][j][k]\n",
    "            elif(i==4):\n",
    "                d5+=x[i][j][k]\n",
    "            elif(i==5):\n",
    "                d6+=x[i][j][k]\n",
    "            elif(i==6):\n",
    "                d7+=x[i][j][k]\n",
    "print()\n",
    "print(\"********* RESULT *********\")\n",
    "print()\n",
    "print(\"Students 1 total marks: \",d1)\n",
    "print(\"Students 2 total marks: \",d2)\n",
    "print(\"Students 3 total marks: \",d3)\n",
    "print(\"Students 4 total marks: \",d4)\n",
    "print(\"Students 5 total marks: \",d5)\n",
    "print(\"Students 6 total marks: \",d6)\n",
    "print(\"Students 7 total marks: \",d7)"
   ]
  },
  {
   "cell_type": "code",
   "execution_count": null,
   "metadata": {},
   "outputs": [],
   "source": []
  },
  {
   "cell_type": "code",
   "execution_count": null,
   "metadata": {},
   "outputs": [],
   "source": []
  },
  {
   "cell_type": "code",
   "execution_count": null,
   "metadata": {},
   "outputs": [],
   "source": []
  }
 ],
 "metadata": {
  "kernelspec": {
   "display_name": "Python 3",
   "language": "python",
   "name": "python3"
  },
  "language_info": {
   "codemirror_mode": {
    "name": "ipython",
    "version": 3
   },
   "file_extension": ".py",
   "mimetype": "text/x-python",
   "name": "python",
   "nbconvert_exporter": "python",
   "pygments_lexer": "ipython3",
   "version": "3.7.3"
  }
 },
 "nbformat": 4,
 "nbformat_minor": 1
}
