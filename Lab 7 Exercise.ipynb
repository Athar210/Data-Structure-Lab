{
 "cells": [
  {
   "cell_type": "markdown",
   "metadata": {},
   "source": [
    "# Exercise 7.1"
   ]
  },
  {
   "cell_type": "code",
   "execution_count": 1,
   "metadata": {},
   "outputs": [
    {
     "name": "stdout",
     "output_type": "stream",
     "text": [
      "OOAD DBMS DST OOP PF "
     ]
    }
   ],
   "source": [
    "class node:\n",
    "    def __init__(self,value):\n",
    "        self.info = value\n",
    "        self.next=None\n",
    "        self.prev=None\n",
    "class doubly:\n",
    "    def __init__(self,value=None):\n",
    "        self.start=node(value)\n",
    "    def Print(self):\n",
    "        if(self.start is None):\n",
    "            print(\"List is empty\")\n",
    "        else:\n",
    "            ptr=self.start\n",
    "            while(ptr is not None):\n",
    "                print(ptr.info,end=\" \")\n",
    "                ptr=ptr.next\n",
    "    def insertAtEnd(self,value):\n",
    "        new =node(value)\n",
    "        if(self.start==None):\n",
    "            self.start=new\n",
    "        else:\n",
    "            ptr=self.start\n",
    "            while(ptr.next is not None):\n",
    "                ptr=ptr.next\n",
    "            ptr.next=new\n",
    "            new.prev=ptr\n",
    "    def search(self,value):\n",
    "        ptr=self.start\n",
    "        while(ptr.info is not value):\n",
    "            ptr=ptr.next\n",
    "        while(ptr.prev is not None):\n",
    "            ptr=ptr.prev\n",
    "            print(ptr.info,end=\" \")\n",
    "\n",
    "courses=doubly(\"PF\")\n",
    "courses.insertAtEnd(\"OOP\")\n",
    "courses.insertAtEnd(\"DST\")\n",
    "courses.insertAtEnd(\"DBMS\")\n",
    "courses.insertAtEnd(\"OOAD\")\n",
    "courses.insertAtEnd(\"AI\")\n",
    "courses.insertAtEnd(\"DP\")\n",
    "courses.search(\"AI\")\n"
   ]
  },
  {
   "cell_type": "markdown",
   "metadata": {},
   "source": [
    "# Exercise 7.2 "
   ]
  },
  {
   "cell_type": "code",
   "execution_count": 2,
   "metadata": {},
   "outputs": [
    {
     "name": "stdout",
     "output_type": "stream",
     "text": [
      "Enter name: ATHAR\n",
      "Enter company: HEIST\n",
      "Enter contact number: 390473\n",
      "Enter Item: MOUSE\n",
      "Enter Quantity: 12\n",
      "Enter price: 350\n",
      "press any key to continue else press no to exit \n",
      "Enter Item: CARDS\n",
      "Enter Quantity: 15\n",
      "Enter price: 90\n",
      "press any key to continue else press no to exit NO\n",
      "\n",
      "\n",
      "Name  ATHAR \t\t\t\tDate  2020-04-05\n",
      "Company  HEIST \t\t\t\tContact  390473\n",
      "S.no \t\t\t Particular \t\t\t Qty \t\t Rate \t\t Amount\n",
      "1 \t\t\t MOUSE \t\t\t\t 12 \t\t 350 \t\t 4200\n",
      "2 \t\t\t CARDS \t\t\t\t 15 \t\t 90 \t\t 1350\n",
      "\t\t\t\t\t\t\t\t\t TOTAL =  5550\n"
     ]
    }
   ],
   "source": [
    "import datetime\n",
    "class node:\n",
    "    def __init__(self,parti ,qty,price):\n",
    "        self.particular=parti\n",
    "        self.qty=qty\n",
    "        self.price=price\n",
    "        self.amount=int(price)*int(qty)\n",
    "        self.next=None\n",
    "class Linkedlist:\n",
    "    def __init__(self):\n",
    "        self.name=None\n",
    "        self.company=None\n",
    "        self.contact=None\n",
    "        self.total=0\n",
    "        self.start=None\n",
    "    def insert(self,parti ,qty,price):\n",
    "            if(self.start is None):\n",
    "                self.start=node(parti ,qty,price)\n",
    "            else:\n",
    "                ptr=self.start\n",
    "                while(ptr.next is not None):\n",
    "                    ptr=ptr.next\n",
    "                ptr.next=node(parti ,qty,price)\n",
    "    def Create(self):\n",
    "        self.name=input(\"Enter name: \")\n",
    "        self.company=input(\"Enter company: \")\n",
    "        self.contact=input(\"Enter contact number: \")\n",
    "        flag=True\n",
    "        while(flag):\n",
    "            parti=input(\"Enter Item: \")\n",
    "            qty=input(\"Enter Quantity: \")\n",
    "            price=input(\"Enter price: \")\n",
    "            self.insert(parti ,qty,price)\n",
    "            self.total+=int(price)*int(qty)\n",
    "            dic=input(\"press any key to continue else press no to exit \")\n",
    "            if(dic==\"no\" or dic==\"NO\"):\n",
    "                flag=False\n",
    "    \n",
    "    def Print(self):\n",
    "        print(\"Name \",self.name,\"\\t\\t\\t\\tDate \",str(datetime.date.today()))\n",
    "        print(\"Company \",self.company,\"\\t\\t\\t\\tContact \",self.contact)\n",
    "        print(f\"S.no \\t\\t\\t Particular \\t\\t\\t Qty \\t\\t Rate \\t\\t Amount\")\n",
    "        ptr=self.start\n",
    "        i=1\n",
    "        while(ptr is not None):\n",
    "            print(f\"{i} \\t\\t\\t {ptr.particular} \\t\\t\\t\\t {ptr.qty} \\t\\t {ptr.price} \\t\\t {ptr.amount}\")\n",
    "            ptr=ptr.next\n",
    "            i+=1\n",
    "        print(\"\\t\\t\\t\\t\\t\\t\\t\\t\\t TOTAL = \",self.total)\n",
    "bill=Linkedlist()            \n",
    "bill.Create()\n",
    "print()\n",
    "print()\n",
    "bill.Print()"
   ]
  },
  {
   "cell_type": "markdown",
   "metadata": {},
   "source": [
    "# Exercise 7.3"
   ]
  },
  {
   "cell_type": "code",
   "execution_count": 3,
   "metadata": {},
   "outputs": [
    {
     "name": "stdout",
     "output_type": "stream",
     "text": [
      "athar\n",
      "asghar\n",
      "ashir\n",
      "========= Finding Asghar ================\n",
      "asghar  found\n",
      "========= Deleting Asghar ================\n",
      "Deleted  asghar\n",
      "========= Printing List After Deleting Asghar ================\n",
      "athar\n",
      "ashir\n"
     ]
    }
   ],
   "source": [
    "from IPython.display import clear_output\n",
    "class node:\n",
    "    def __init__(self,name):\n",
    "        self.name=name\n",
    "        self.next = None\n",
    "        self.prev = None\n",
    "class linkedlist:\n",
    "    def __init__(self):\n",
    "        self.start=None\n",
    "    def insert(self,value):\n",
    "        if self.start is None:\n",
    "            newnode=node(value)\n",
    "            newnode.prev=None\n",
    "            self.start=newnode\n",
    "        else:\n",
    "            newnode=node(value)\n",
    "            ptr=self.start\n",
    "            while(ptr.next):\n",
    "                ptr=ptr.next\n",
    "            ptr.next=newnode\n",
    "            newnode.prev=ptr\n",
    "            newnode.next=None\n",
    "    def search(self,value):\n",
    "        if self.start is None:\n",
    "            print(\"list is empty\")\n",
    "        else:\n",
    "            ptr=self.start\n",
    "            while(ptr is not None and ptr.name is not value):\n",
    "                ptr=ptr.next\n",
    "            if ptr==None:\n",
    "                print(value,\" not found\")\n",
    "            else:\n",
    "                print(value,\" found\")\n",
    "    def delete(self,value):\n",
    "        temp=self.start\n",
    "        if (temp.name is value):\n",
    "            self.start=temp.next\n",
    "            temp=None\n",
    "            return\n",
    "        while temp is not None:\n",
    "            if(temp.name==value):\n",
    "                break\n",
    "            prev=temp\n",
    "            temp=temp.next\n",
    "            if temp is None:\n",
    "                return\n",
    "            prev.next=temp.next\n",
    "            temp=None\n",
    "        print(\"Deleted \",value)\n",
    "    def Print(self):\n",
    "        ptr=self.start\n",
    "        while ptr:\n",
    "            print(ptr.name)\n",
    "            ptr=ptr.next\n",
    "x=linkedlist()\n",
    "x.insert(\"athar\")\n",
    "x.insert(\"asghar\")\n",
    "x.insert(\"ashir\")\n",
    "x.Print()\n",
    "print(\"========= Finding Asghar ================\")\n",
    "x.search(\"asghar\")\n",
    "print(\"========= Deleting Asghar ================\")\n",
    "x.delete(\"asghar\")\n",
    "print(\"========= Printing List After Deleting Asghar ================\")\n",
    "x.Print()"
   ]
  },
  {
   "cell_type": "code",
   "execution_count": null,
   "metadata": {},
   "outputs": [],
   "source": []
  }
 ],
 "metadata": {
  "kernelspec": {
   "display_name": "Python 3",
   "language": "python",
   "name": "python3"
  },
  "language_info": {
   "codemirror_mode": {
    "name": "ipython",
    "version": 3
   },
   "file_extension": ".py",
   "mimetype": "text/x-python",
   "name": "python",
   "nbconvert_exporter": "python",
   "pygments_lexer": "ipython3",
   "version": "3.7.3"
  }
 },
 "nbformat": 4,
 "nbformat_minor": 2
}
