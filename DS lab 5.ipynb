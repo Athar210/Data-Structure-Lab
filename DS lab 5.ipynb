{
 "cells": [
  {
   "cell_type": "markdown",
   "metadata": {},
   "source": [
    "#  LAB 5:  SEARCHING ALGORITHM\n",
    "## 1) Linear Searching \n"
   ]
  },
  {
   "cell_type": "markdown",
   "metadata": {},
   "source": [
    "### incorrect method for multiple values"
   ]
  },
  {
   "cell_type": "code",
   "execution_count": 30,
   "metadata": {},
   "outputs": [
    {
     "name": "stdout",
     "output_type": "stream",
     "text": [
      "Enter num: 80\n",
      "mil gaya si on index:  1\n"
     ]
    }
   ],
   "source": [
    "import numpy as np\n",
    "arr=np.array([90,80,77,45,23,76,80])\n",
    "x=int(input(\"Enter num: \"))\n",
    "flagg=False\n",
    "for i in range(len(arr)):\n",
    "    if(arr[i]==x):\n",
    "        flagg=True\n",
    "        break\n",
    "if (flagg):\n",
    "    print(\"mil gaya si on index: \",str(i))\n",
    "else:\n",
    "    print(\"not found nigga: \")"
   ]
  },
  {
   "cell_type": "markdown",
   "metadata": {},
   "source": [
    "### correct method for multiple values"
   ]
  },
  {
   "cell_type": "code",
   "execution_count": 33,
   "metadata": {},
   "outputs": [
    {
     "name": "stdout",
     "output_type": "stream",
     "text": [
      "Enter num: 80\n",
      "1 6 7 "
     ]
    }
   ],
   "source": [
    "import numpy as np\n",
    "count=0\n",
    "l=[]\n",
    "arr=np.array([90,80,77,45,23,76,80,80])\n",
    "x=int(input(\"Enter num: \"))\n",
    "flagg=False\n",
    "for i in range(len(arr)):\n",
    "    if(arr[i]==x):\n",
    "        count+=1\n",
    "        print(f\"{i}\",end=\" \")\n",
    "        l.append(i)\n"
   ]
  },
  {
   "cell_type": "markdown",
   "metadata": {},
   "source": [
    "# 2) Binary Search"
   ]
  },
  {
   "cell_type": "code",
   "execution_count": 50,
   "metadata": {},
   "outputs": [
    {
     "name": "stdout",
     "output_type": "stream",
     "text": [
      "Enter num: 45\n",
      "found on index 3 \n"
     ]
    }
   ],
   "source": [
    "arr=np.array([90,80,77,45,23,76,80,80])\n",
    "first=0\n",
    "last=len(arr)-1\n",
    "mid=int((first+last)/2)\n",
    "flagg=False\n",
    "x=int(input(\"Enter num: \"))\n",
    "while(last>=first):\n",
    "    mid=int((first+last)/2)\n",
    "    if(arr[mid]==x):\n",
    "        flagg=True\n",
    "        break\n",
    "    elif(x<arr[mid]):\n",
    "        first=mid+1\n",
    "    elif(x>arr[mid]):\n",
    "        last=mid-1\n",
    "if(flagg):\n",
    "    print(f\"found on index {mid} \")\n",
    "else:\n",
    "    print(f\"not found\")"
   ]
  },
  {
   "cell_type": "markdown",
   "metadata": {},
   "source": [
    "# Guess Game"
   ]
  },
  {
   "cell_type": "code",
   "execution_count": null,
   "metadata": {},
   "outputs": [],
   "source": [
    "# coming soon"
   ]
  }
 ],
 "metadata": {
  "kernelspec": {
   "display_name": "Python 3",
   "language": "python",
   "name": "python3"
  },
  "language_info": {
   "codemirror_mode": {
    "name": "ipython",
    "version": 3
   },
   "file_extension": ".py",
   "mimetype": "text/x-python",
   "name": "python",
   "nbconvert_exporter": "python",
   "pygments_lexer": "ipython3",
   "version": "3.7.1"
  }
 },
 "nbformat": 4,
 "nbformat_minor": 2
}
