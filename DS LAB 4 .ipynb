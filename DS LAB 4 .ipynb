{
 "cells": [
  {
   "cell_type": "markdown",
   "metadata": {},
   "source": [
    "# Bubble Sort"
   ]
  },
  {
   "cell_type": "code",
   "execution_count": 32,
   "metadata": {},
   "outputs": [
    {
     "name": "stdout",
     "output_type": "stream",
     "text": [
      "before sorting   [ 2 34 -4 23 75]\n",
      "after sorting   [-4  2 23 34 75]\n"
     ]
    }
   ],
   "source": [
    "import numpy as np\n",
    "arr=np.array([2,34,-4,23,75])\n",
    "temp=0\n",
    "print(\"before sorting  \",arr)\n",
    "for i in range(len(arr)-1):\n",
    "        for j in range(len(arr)-1-i):\n",
    "            if arr[j]>arr[j+1]:\n",
    "                temp = arr[j]\n",
    "                arr[j]=arr[j+1]\n",
    "                arr[j+1]=temp\n",
    "print(\"after sorting  \",arr)                "
   ]
  },
  {
   "cell_type": "markdown",
   "metadata": {},
   "source": [
    "# Second Method for Bubble Sort in limited loops"
   ]
  },
  {
   "cell_type": "code",
   "execution_count": 44,
   "metadata": {},
   "outputs": [
    {
     "name": "stdout",
     "output_type": "stream",
     "text": [
      "before sorting   [1 2 4 3 5 6]\n",
      "number of loops for sorting:  2\n",
      "after sorting   [1 2 3 4 5 6]\n"
     ]
    }
   ],
   "source": [
    "import numpy as np\n",
    "arr=np.array([1,2,4,3,5,6])\n",
    "temp=0\n",
    "fflag=False\n",
    "print(\"before sorting  \",arr)\n",
    "for i in range(len(arr)-1):\n",
    "        for j in range(len(arr)-1-i):\n",
    "            if arr[j]>arr[j+1]:\n",
    "                temp = arr[j]\n",
    "                arr[j]=arr[j+1]\n",
    "                arr[j+1]=temp\n",
    "                fflag=True\n",
    "                print(\"number of loops for sorting: \",j)\n",
    "        if(not fflag):\n",
    "            break\n",
    "            \n",
    "print(\"after sorting  \",arr)                \n"
   ]
  },
  {
   "cell_type": "markdown",
   "metadata": {},
   "source": [
    "# Sorting in string Array "
   ]
  },
  {
   "cell_type": "code",
   "execution_count": 51,
   "metadata": {},
   "outputs": [
    {
     "name": "stdout",
     "output_type": "stream",
     "text": [
      "before sorting   ['Athar' 'Ashir' 'Asghar']\n",
      "before sorting   ['Ashir' 'Asghar' 'Athar']\n"
     ]
    }
   ],
   "source": [
    "arr=np.array([\"Athar\",\"Ashir\",\"Asghar\"])\n",
    "temp=0\n",
    "print(\"before sorting  \",arr)\n",
    "for i in range(len(arr)-1):\n",
    "        for j in range(len(arr)-1-i):\n",
    "            if arr[j][1]>arr[j+1][1]: #sorting in ascending depending upon first letter of word due to 0 index which we have mentioned\n",
    "                temp = arr[j]\n",
    "                arr[j]=arr[j+1]\n",
    "                arr[j+1]=temp\n",
    "print(\"before sorting  \",arr)"
   ]
  },
  {
   "cell_type": "markdown",
   "metadata": {},
   "source": [
    "# Selection Sort"
   ]
  },
  {
   "cell_type": "code",
   "execution_count": 59,
   "metadata": {},
   "outputs": [
    {
     "name": "stdout",
     "output_type": "stream",
     "text": [
      "before sorting   [ 2  5  2  7  5 99 34 65 99]\n",
      "after sorting    [ 2  2  5  5  7 34 65 99 99]\n"
     ]
    }
   ],
   "source": [
    "arr=np.array([2,5,2,7,5,99,34,65,99])\n",
    "temp=0\n",
    "print(\"before sorting  \",arr)\n",
    "for i in range(len(arr)-1):\n",
    "    index=i\n",
    "    for j in range(i+1,len(arr)): #this loop is for finding smallest value in aa\n",
    "        if arr[j]<arr[index]: \n",
    "                index=j\n",
    "                \n",
    "    if arr[i]!=arr[index]:\n",
    "        temp=arr[i]\n",
    "        arr[i]=arr[index]\n",
    "        arr[index]=temp\n",
    "            \n",
    "print(\"after sorting   \",arr)"
   ]
  },
  {
   "cell_type": "markdown",
   "metadata": {},
   "source": [
    "# Insertion Sort"
   ]
  },
  {
   "cell_type": "code",
   "execution_count": 76,
   "metadata": {},
   "outputs": [
    {
     "name": "stdout",
     "output_type": "stream",
     "text": [
      "before sorting   [34 21 87 54 63  3]\n",
      "\n",
      "\n",
      "Sorting    [34 21 87 54 63  3]\n",
      "Sorting    [21 34 87 54 63  3]\n",
      "Sorting    [87 21 34 54 63  3]\n",
      "Sorting    [54 87 21 34 63  3]\n",
      "Sorting    [63 54 87 21 34  3]\n",
      "Sorting    [ 3 63 54 87 21 34]\n",
      "\n",
      "\n",
      "after sorting    [ 3 63 54 87 21 34]\n",
      "loop =  5\n"
     ]
    }
   ],
   "source": [
    "#this compares values with its left ones \n",
    "arr=np.array([34,21,87,54,63,3])\n",
    "temp=0\n",
    "print(\"before sorting  \",arr)\n",
    "print()\n",
    "print()\n",
    "for i in range(1,len(arr)):\n",
    "    temp=arr[i]\n",
    "    index=i\n",
    "    \n",
    "    while(index != 0 and arr[index-1 > temp]):\n",
    "        arr[index]=arr[index-1]\n",
    "        index-=1\n",
    "    arr[index]=temp\n",
    "   \n",
    "    print(\"Sorting   \",arr)\n",
    "\n",
    "print()\n",
    "print()\n",
    "print(\"after sorting   \",arr)\n",
    "\n",
    "print(\"loop = \",i)"
   ]
  },
  {
   "cell_type": "markdown",
   "metadata": {},
   "source": [
    "# Counting Sort"
   ]
  },
  {
   "cell_type": "code",
   "execution_count": 2,
   "metadata": {},
   "outputs": [],
   "source": [
    "#step 1 ==> same range ka alag array aur usmn sy uski index wise value nikali aur doosri array k us value index mn inc krdi\n",
    "#step 2 ==> values previous values sy sum hota jaega\n",
    "#step 3 ==> original array sy value uthao phr ussi value k index-1 pe jao new array k \n",
    "          # aur unsorted array me us value ka ek decrement krdo.. ye kam range aur zyada values k array k liye best use hai"
   ]
  },
  {
   "cell_type": "code",
   "execution_count": 9,
   "metadata": {},
   "outputs": [
    {
     "name": "stdout",
     "output_type": "stream",
     "text": [
      "[0 1 1 2 0 2 0 1 0 0]\n",
      "\n",
      "\n",
      "[0 1 2 4 4 6 6 7 7 7]\n",
      "\n",
      "\n",
      "[0 0 0 0 0 5 0]\n",
      "[0 0 0 3 0 5 0]\n",
      "[0 2 0 3 0 5 0]\n",
      "[0 2 0 3 5 5 0]\n",
      "[0 2 3 3 5 5 0]\n",
      "[1 2 3 3 5 5 0]\n",
      "[1 2 3 3 5 5 7]\n"
     ]
    }
   ],
   "source": [
    "import numpy as np\n",
    "arr=np.array([5,3,2,5,3,1,7])\n",
    "count=np.array([0 for i in range(10)])\n",
    "\n",
    "#count each value of arr and store it in count array\n",
    "for i in range(len(arr)):\n",
    "    count[arr[i]]+=1\n",
    "print(count)\n",
    "\n",
    "print()\n",
    "print()\n",
    "# modify count array by sum of previous value\n",
    "for i in range(1,len(count)):\n",
    "    count[i]+=count[i-1]\n",
    "print(count)\n",
    "\n",
    "\n",
    "# create another for place sorting values\n",
    "sortedArr=np.array([0 for i in range(len(arr))])\n",
    "\n",
    "print()\n",
    "print()\n",
    "# placing values\n",
    "for i in range(len(arr)):\n",
    "    sortedArr[count[arr[i]]-1] = arr[i]\n",
    "    count[arr[i]]-=1\n",
    "    print(sortedArr)\n"
   ]
  },
  {
   "cell_type": "markdown",
   "metadata": {},
   "source": [
    "# Counting Sort with values > 20"
   ]
  },
  {
   "cell_type": "code",
   "execution_count": 14,
   "metadata": {},
   "outputs": [
    {
     "name": "stdout",
     "output_type": "stream",
     "text": [
      "2 1 0 2 0 0 0 1 \n",
      "3 3 5 5 5 5 6 \n",
      "\n",
      "[ 0  0  0  0  0 29]\n",
      "[ 0 22  0  0  0 29]\n",
      "[ 0 22  0  0 25 29]\n",
      "[ 0 22 23  0 25 29]\n",
      "[22 22 23  0 25 29]\n",
      "[22 22 23 25 25 29]\n"
     ]
    }
   ],
   "source": [
    "arr=np.array([29,22,25,23,22,25])\n",
    "minn=arr[0]\n",
    "maxx=arr[0]\n",
    "\n",
    "for i in range(len(arr)):\n",
    "    if(minn>arr[i]):\n",
    "        minn=arr[i]\n",
    "    if(maxx<arr[i]):\n",
    "        maxx=arr[i]\n",
    "\n",
    "count=np.array([0 for i in range((maxx-minn)+1)])\n",
    "\n",
    "for i in range(len(arr)):\n",
    "    count[arr[i]-minn]+=1\n",
    "    \n",
    "    \n",
    "for i in range(len(count)):\n",
    "    print(count[i],end=\" \")\n",
    "print()\n",
    "\n",
    "\n",
    "for i in range(1,len(count)):\n",
    "    count[i]+=count[i-1]\n",
    "\n",
    "    \n",
    "for i in range(1,len(count)):\n",
    "    print(count[i],end=\" \")\n",
    "\n",
    "    \n",
    "sortedArr=np.array([0 for i in range(len(arr))])\n",
    "\n",
    "print()\n",
    "print()\n",
    "# placing values\n",
    "for i in range(len(sortedArr)):\n",
    "    sortedArr[count[arr[i]-minn]-1] = arr[i]\n",
    "    count[arr[i]-minn]-=1\n",
    "    print(sortedArr)"
   ]
  },
  {
   "cell_type": "markdown",
   "metadata": {},
   "source": [
    "# Optimized code without modify count array"
   ]
  },
  {
   "cell_type": "code",
   "execution_count": 15,
   "metadata": {},
   "outputs": [
    {
     "name": "stdout",
     "output_type": "stream",
     "text": [
      "22 22 23 24 25 29 "
     ]
    }
   ],
   "source": [
    "arr=np.array([29,22,25,23,22,24])\n",
    "minn=arr[0]\n",
    "maxx=arr[0]\n",
    "\n",
    "for i in range(len(arr)):\n",
    "    if(minn>arr[i]):\n",
    "        minn=arr[i]\n",
    "    if(maxx<arr[i]):\n",
    "        maxx=arr[i]\n",
    "\n",
    "count=np.array([0 for i in range((maxx-minn)+1)])\n",
    "\n",
    "for i in range(len(arr)):\n",
    "    count[arr[i]-minn]+=1\n",
    "\n",
    "sortedArr=np.array([0 for i in range(len(arr))])\n",
    "\n",
    "k=0\n",
    "for i in range(len(count)):\n",
    "    for j in range(count[i],0,-1):\n",
    "        sortedArr[k]=i+minn\n",
    "        k+=1\n",
    "        \n",
    "for i in range(len(sortedArr)):\n",
    "    print(sortedArr[i],end=\" \")\n",
    "    "
   ]
  },
  {
   "cell_type": "code",
   "execution_count": null,
   "metadata": {},
   "outputs": [],
   "source": []
  }
 ],
 "metadata": {
  "kernelspec": {
   "display_name": "Python 3",
   "language": "python",
   "name": "python3"
  },
  "language_info": {
   "codemirror_mode": {
    "name": "ipython",
    "version": 3
   },
   "file_extension": ".py",
   "mimetype": "text/x-python",
   "name": "python",
   "nbconvert_exporter": "python",
   "pygments_lexer": "ipython3",
   "version": "3.7.1"
  }
 },
 "nbformat": 4,
 "nbformat_minor": 2
}
