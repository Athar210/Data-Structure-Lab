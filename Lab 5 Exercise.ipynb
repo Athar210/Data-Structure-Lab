{
 "cells": [
  {
   "cell_type": "markdown",
   "metadata": {},
   "source": [
    "# Exercise 5.1"
   ]
  },
  {
   "cell_type": "code",
   "execution_count": 6,
   "metadata": {},
   "outputs": [
    {
     "name": "stdout",
     "output_type": "stream",
     "text": [
      "Enter starting range: 1\n",
      "Enter ending range: 16\n",
      "guessed:  8\n",
      "4  chances left\n",
      " Where to go? Enter Higher or Lower? and Enter C if guessed correct ::>  higher\n",
      "guessed:  12\n",
      "3  chances left\n",
      " Where to go? Enter Higher or Lower? and Enter C if guessed correct ::>  higher\n",
      "guessed:  14\n",
      "2  chances left\n",
      " Where to go? Enter Higher or Lower? and Enter C if guessed correct ::>  lower\n",
      "guessed:  13\n",
      "1  chances left\n",
      " Where to go? Enter Higher or Lower? and Enter C if guessed correct ::>  c\n",
      "Game over. Machine Won! secret number was: 13\n"
     ]
    }
   ],
   "source": [
    "lowerbound = int(input(\"Enter starting range: \"))\n",
    "upperbound = int(input(\"Enter ending range: \"))\n",
    "chances=5\n",
    "for i in range(chances-1):\n",
    "    mid = int((upperbound - lowerbound)/2 + lowerbound) #Linear Search method\n",
    "    print(\"guessed: \",mid)\n",
    "    print(chances-i-1,\" chances left\")\n",
    "    guess = input(\" Where to go? Enter Higher or Lower? and Enter C if guessed correct ::>  \")\n",
    "    if guess == 'higher':\n",
    "        lowerbound = mid\n",
    "    elif guess == 'lower':\n",
    "        upperbound = mid\n",
    "    elif guess == 'c':\n",
    "        print( 'Game over. Machine Won! secret number was: ' + str(mid))\n",
    "        break\n",
    "    else:\n",
    "        print('Wrong input nigga')\n",
    "        break\n",
    "\n",
    "    "
   ]
  },
  {
   "cell_type": "markdown",
   "metadata": {},
   "source": [
    "# Exercise 5.2"
   ]
  },
  {
   "cell_type": "code",
   "execution_count": 9,
   "metadata": {},
   "outputs": [
    {
     "name": "stdout",
     "output_type": "stream",
     "text": [
      "Enter 1 element value: 1\n",
      "Enter 2 element value: 1\n",
      "Enter 3 element value: 2\n",
      "Enter 1 element value: 1\n",
      "Enter 2 element value: 2\n",
      "Enter 3 element value: 3\n",
      "[1 1 2]\n",
      "[1 2 3]\n",
      "[2 1 0]\n"
     ]
    }
   ],
   "source": [
    "import numpy as np\n",
    "x=np.array([0 for i in range(3)])\n",
    "y=np.array([0 for i in range(3)])\n",
    "for i in range(3):\n",
    "    x[i]=int(input(f\"Enter {i+1} element value: \"))\n",
    "for j in range(3):\n",
    "    y[j]=int(input(f\"Enter {j+1} element value: \"))\n",
    "    \n",
    "print(x)\n",
    "print(y)\n",
    "\n",
    "z=np.array([0 for i in range(3)])\n",
    "for i in range(3):\n",
    "    temp=x[i]\n",
    "    for j in range(3):\n",
    "        if(temp==y[j]):\n",
    "            z[j]+=1\n",
    "print(z)"
   ]
  },
  {
   "cell_type": "code",
   "execution_count": null,
   "metadata": {},
   "outputs": [],
   "source": []
  }
 ],
 "metadata": {
  "kernelspec": {
   "display_name": "Python 3",
   "language": "python",
   "name": "python3"
  },
  "language_info": {
   "codemirror_mode": {
    "name": "ipython",
    "version": 3
   },
   "file_extension": ".py",
   "mimetype": "text/x-python",
   "name": "python",
   "nbconvert_exporter": "python",
   "pygments_lexer": "ipython3",
   "version": "3.7.3"
  }
 },
 "nbformat": 4,
 "nbformat_minor": 2
}
