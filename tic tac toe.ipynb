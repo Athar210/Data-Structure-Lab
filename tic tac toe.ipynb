{
 "cells": [
  {
   "cell_type": "code",
   "execution_count": 2,
   "metadata": {},
   "outputs": [
    {
     "name": "stdout",
     "output_type": "stream",
     "text": [
      "\n",
      "|O|X|O|\n",
      "|_|_|_|\n",
      "|4|X|6|\n",
      "|_|_|_|\n",
      "|7|X|9|\n",
      "\n",
      "Athar got the game !!\n"
     ]
    }
   ],
   "source": [
    "from __future__ import print_function\n",
    "import sys\n",
    "from IPython.display import clear_output\n",
    "moves = []\n",
    "\n",
    "for x in range (0, 9) :\n",
    "    moves.append(str(x + 1))\n",
    "\n",
    "playerOneTurn = True\n",
    "winner = False\n",
    "\n",
    "def printBoard() :\n",
    "    clear_output()\n",
    "    print()\n",
    "    print( '|'   + moves[0] +   '|'   + moves[1] +   '|'   + moves[2] +   '|')\n",
    "    print( '|_|_|_|')\n",
    "    print( '|'   + moves[3] +   '|' +   moves[4] +   '|'   + moves[5] +   '|')\n",
    "    print( '|_|_|_|')\n",
    "    print( '|' + moves[6] + '|' + moves[7] + '|' + moves[8] + '|')\n",
    "    print()\n",
    "count=0\n",
    "while not winner :\n",
    "\n",
    "    printBoard()\n",
    "    \n",
    "    if(count>=9):\n",
    "        print(\"Draw\")\n",
    "        sys.exit()\n",
    "    if playerOneTurn :\n",
    "        print( \"Athar's chance:\")\n",
    "    else :\n",
    "        print( \"Ashir's chance\")\n",
    "\n",
    "    try:\n",
    "        choice = int(input(\"Enter your move:  \"))\n",
    "    except:\n",
    "        print(\"enter in range 1-9 !!\")\n",
    "        continue\n",
    "    if(choice>9):\n",
    "        sys.exit()\n",
    "    if moves[choice - 1] == 'X' or moves [choice-1] == 'O':\n",
    "        print(\"Cheating not allowed bro! \")\n",
    "        continue\n",
    "\n",
    "    if playerOneTurn :\n",
    "        count+=1\n",
    "        moves[choice - 1] = 'X'\n",
    "    else :\n",
    "        count+=1\n",
    "        moves[choice - 1] = 'O'\n",
    "\n",
    "    playerOneTurn = not playerOneTurn\n",
    "\n",
    "    for x in range (0, 3) :\n",
    "        y = x * 3\n",
    "        if (moves[y] == moves[(y + 1)] and moves[y] == moves[(y + 2)]) :\n",
    "            winner = True\n",
    "            printBoard()\n",
    "        if (moves[x] == moves[(x + 3)] and moves[x] == moves[(x + 6)]) :\n",
    "            winner = True\n",
    "            printBoard()\n",
    "\n",
    "    if((moves[0] == moves[4] and moves[0] == moves[8]) or \n",
    "       (moves[2] == moves[4] and moves[4] == moves[6])) :\n",
    "        winner = True\n",
    "        printBoard()\n",
    "    printBoard()\n",
    "if(playerOneTurn):\n",
    "    print(\"Ashir got the game !!\")\n",
    "else:\n",
    "    print('Athar got the game !!')"
   ]
  },
  {
   "cell_type": "code",
   "execution_count": null,
   "metadata": {},
   "outputs": [],
   "source": []
  }
 ],
 "metadata": {
  "kernelspec": {
   "display_name": "Python 3",
   "language": "python",
   "name": "python3"
  },
  "language_info": {
   "codemirror_mode": {
    "name": "ipython",
    "version": 3
   },
   "file_extension": ".py",
   "mimetype": "text/x-python",
   "name": "python",
   "nbconvert_exporter": "python",
   "pygments_lexer": "ipython3",
   "version": "3.7.3"
  }
 },
 "nbformat": 4,
 "nbformat_minor": 2
}
